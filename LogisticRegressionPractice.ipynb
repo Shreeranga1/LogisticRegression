{
  "nbformat": 4,
  "nbformat_minor": 0,
  "metadata": {
    "colab": {
      "name": "LogisticRegressionPractice.ipynb",
      "provenance": [],
      "authorship_tag": "ABX9TyNnCr6z+Gnsh3Sx1YdCYb9g",
      "include_colab_link": true
    },
    "kernelspec": {
      "name": "python3",
      "display_name": "Python 3"
    },
    "language_info": {
      "name": "python"
    }
  },
  "cells": [
    {
      "cell_type": "markdown",
      "metadata": {
        "id": "view-in-github",
        "colab_type": "text"
      },
      "source": [
        "<a href=\"https://colab.research.google.com/github/Shreeranga1/LogisticRegression/blob/main/LogisticRegressionPractice.ipynb\" target=\"_parent\"><img src=\"https://colab.research.google.com/assets/colab-badge.svg\" alt=\"Open In Colab\"/></a>"
      ]
    },
    {
      "cell_type": "code",
      "metadata": {
        "id": "0UAh3CIJ_jz3"
      },
      "source": [
        "import pandas as pd\n",
        "import numpy as np"
      ],
      "execution_count": 144,
      "outputs": []
    },
    {
      "cell_type": "code",
      "metadata": {
        "colab": {
          "base_uri": "https://localhost:8080/",
          "height": 111
        },
        "id": "58xJ6kqf_o1N",
        "outputId": "e57f6808-ac13-45b5-c2ba-8760f34d32c8"
      },
      "source": [
        "df=pd.read_csv('https://raw.githubusercontent.com/Shreeranga1/LogisticRegression/main/Admission_Predict.csv')\n",
        "df.head(2)"
      ],
      "execution_count": 255,
      "outputs": [
        {
          "output_type": "execute_result",
          "data": {
            "text/html": [
              "<div>\n",
              "<style scoped>\n",
              "    .dataframe tbody tr th:only-of-type {\n",
              "        vertical-align: middle;\n",
              "    }\n",
              "\n",
              "    .dataframe tbody tr th {\n",
              "        vertical-align: top;\n",
              "    }\n",
              "\n",
              "    .dataframe thead th {\n",
              "        text-align: right;\n",
              "    }\n",
              "</style>\n",
              "<table border=\"1\" class=\"dataframe\">\n",
              "  <thead>\n",
              "    <tr style=\"text-align: right;\">\n",
              "      <th></th>\n",
              "      <th>Serial No.</th>\n",
              "      <th>GRE Score</th>\n",
              "      <th>TOEFL Score</th>\n",
              "      <th>University Rating</th>\n",
              "      <th>SOP</th>\n",
              "      <th>LOR</th>\n",
              "      <th>CGPA</th>\n",
              "      <th>Research</th>\n",
              "      <th>Chance of Admit</th>\n",
              "    </tr>\n",
              "  </thead>\n",
              "  <tbody>\n",
              "    <tr>\n",
              "      <th>0</th>\n",
              "      <td>1</td>\n",
              "      <td>337</td>\n",
              "      <td>118</td>\n",
              "      <td>4</td>\n",
              "      <td>4.5</td>\n",
              "      <td>4.5</td>\n",
              "      <td>9.65</td>\n",
              "      <td>1</td>\n",
              "      <td>1</td>\n",
              "    </tr>\n",
              "    <tr>\n",
              "      <th>1</th>\n",
              "      <td>2</td>\n",
              "      <td>324</td>\n",
              "      <td>107</td>\n",
              "      <td>4</td>\n",
              "      <td>4.0</td>\n",
              "      <td>4.5</td>\n",
              "      <td>8.87</td>\n",
              "      <td>1</td>\n",
              "      <td>1</td>\n",
              "    </tr>\n",
              "  </tbody>\n",
              "</table>\n",
              "</div>"
            ],
            "text/plain": [
              "   Serial No.  GRE Score  TOEFL Score  ...  CGPA  Research  Chance of Admit\n",
              "0           1        337          118  ...  9.65         1                1\n",
              "1           2        324          107  ...  8.87         1                1\n",
              "\n",
              "[2 rows x 9 columns]"
            ]
          },
          "metadata": {
            "tags": []
          },
          "execution_count": 255
        }
      ]
    },
    {
      "cell_type": "code",
      "metadata": {
        "colab": {
          "base_uri": "https://localhost:8080/"
        },
        "id": "xr9mSMd1_2RQ",
        "outputId": "149e8b01-da72-41cc-af00-7279007dc72a"
      },
      "source": [
        "df.shape"
      ],
      "execution_count": 146,
      "outputs": [
        {
          "output_type": "execute_result",
          "data": {
            "text/plain": [
              "(400, 9)"
            ]
          },
          "metadata": {
            "tags": []
          },
          "execution_count": 146
        }
      ]
    },
    {
      "cell_type": "code",
      "metadata": {
        "colab": {
          "base_uri": "https://localhost:8080/"
        },
        "id": "gSix7aWj_9-Z",
        "outputId": "79e9e62d-5927-4858-a02d-8c9ba1e7e59e"
      },
      "source": [
        "df.info()"
      ],
      "execution_count": 147,
      "outputs": [
        {
          "output_type": "stream",
          "text": [
            "<class 'pandas.core.frame.DataFrame'>\n",
            "RangeIndex: 400 entries, 0 to 399\n",
            "Data columns (total 9 columns):\n",
            " #   Column             Non-Null Count  Dtype  \n",
            "---  ------             --------------  -----  \n",
            " 0   Serial No.         400 non-null    int64  \n",
            " 1   GRE Score          400 non-null    int64  \n",
            " 2   TOEFL Score        400 non-null    int64  \n",
            " 3   University Rating  400 non-null    int64  \n",
            " 4   SOP                400 non-null    float64\n",
            " 5   LOR                400 non-null    float64\n",
            " 6   CGPA               400 non-null    float64\n",
            " 7   Research           400 non-null    int64  \n",
            " 8   Chance of Admit    400 non-null    int64  \n",
            "dtypes: float64(3), int64(6)\n",
            "memory usage: 28.2 KB\n"
          ],
          "name": "stdout"
        }
      ]
    },
    {
      "cell_type": "code",
      "metadata": {
        "id": "RdWFdhBMACef"
      },
      "source": [
        "def checkForCategoricalVars(df):\n",
        "  for item in df.columns:\n",
        "    print(item)\n",
        "    print(df[item].value_counts())\n",
        "    print()"
      ],
      "execution_count": 148,
      "outputs": []
    },
    {
      "cell_type": "code",
      "metadata": {
        "colab": {
          "base_uri": "https://localhost:8080/"
        },
        "id": "1p1_de08Amn2",
        "outputId": "b2676130-15a2-4e17-9c56-dc5ec6c49d82"
      },
      "source": [
        "checkForCategoricalVars(df)"
      ],
      "execution_count": 149,
      "outputs": [
        {
          "output_type": "stream",
          "text": [
            "Serial No.\n",
            "400    1\n",
            "137    1\n",
            "127    1\n",
            "128    1\n",
            "129    1\n",
            "      ..\n",
            "270    1\n",
            "271    1\n",
            "272    1\n",
            "273    1\n",
            "1      1\n",
            "Name: Serial No., Length: 400, dtype: int64\n",
            "\n",
            "GRE Score\n",
            "324    19\n",
            "312    19\n",
            "316    14\n",
            "322    14\n",
            "314    14\n",
            "321    13\n",
            "325    13\n",
            "311    12\n",
            "317    12\n",
            "320    12\n",
            "327    12\n",
            "308    11\n",
            "326    11\n",
            "313    11\n",
            "323    10\n",
            "315    10\n",
            "329     9\n",
            "300     9\n",
            "319     9\n",
            "318     9\n",
            "310     8\n",
            "307     8\n",
            "305     8\n",
            "304     8\n",
            "301     8\n",
            "299     8\n",
            "340     8\n",
            "331     8\n",
            "334     7\n",
            "298     7\n",
            "330     6\n",
            "309     6\n",
            "332     6\n",
            "306     6\n",
            "328     6\n",
            "303     5\n",
            "336     5\n",
            "302     5\n",
            "296     5\n",
            "335     4\n",
            "295     4\n",
            "338     4\n",
            "333     4\n",
            "297     4\n",
            "339     3\n",
            "294     2\n",
            "290     2\n",
            "337     1\n",
            "293     1\n",
            "Name: GRE Score, dtype: int64\n",
            "\n",
            "TOEFL Score\n",
            "110    37\n",
            "105    28\n",
            "107    26\n",
            "104    25\n",
            "106    24\n",
            "112    21\n",
            "100    19\n",
            "99     18\n",
            "111    17\n",
            "109    17\n",
            "108    17\n",
            "102    17\n",
            "103    16\n",
            "114    15\n",
            "113    14\n",
            "116    11\n",
            "101    11\n",
            "115     9\n",
            "119     9\n",
            "98      9\n",
            "118     9\n",
            "120     8\n",
            "117     7\n",
            "97      6\n",
            "96      4\n",
            "95      2\n",
            "93      2\n",
            "94      1\n",
            "92      1\n",
            "Name: TOEFL Score, dtype: int64\n",
            "\n",
            "University Rating\n",
            "3    133\n",
            "2    107\n",
            "4     74\n",
            "5     60\n",
            "1     26\n",
            "Name: University Rating, dtype: int64\n",
            "\n",
            "SOP\n",
            "3.5    70\n",
            "4.0    70\n",
            "3.0    64\n",
            "4.5    53\n",
            "2.5    47\n",
            "5.0    37\n",
            "2.0    33\n",
            "1.5    20\n",
            "1.0     6\n",
            "Name: SOP, dtype: int64\n",
            "\n",
            "LOR\n",
            "3.0    85\n",
            "4.0    77\n",
            "3.5    73\n",
            "4.5    45\n",
            "2.5    39\n",
            "2.0    38\n",
            "5.0    35\n",
            "1.5     7\n",
            "1.0     1\n",
            "Name: LOR, dtype: int64\n",
            "\n",
            "CGPA\n",
            "8.00    9\n",
            "8.76    8\n",
            "8.56    7\n",
            "8.45    6\n",
            "8.64    6\n",
            "       ..\n",
            "9.35    1\n",
            "9.62    1\n",
            "9.56    1\n",
            "8.92    1\n",
            "8.09    1\n",
            "Name: CGPA, Length: 168, dtype: int64\n",
            "\n",
            "Research\n",
            "1    219\n",
            "0    181\n",
            "Name: Research, dtype: int64\n",
            "\n",
            "Chance of Admit\n",
            "0    220\n",
            "1    180\n",
            "Name: Chance of Admit, dtype: int64\n",
            "\n"
          ],
          "name": "stdout"
        }
      ]
    },
    {
      "cell_type": "markdown",
      "metadata": {
        "id": "tU5A_hDTCxxB"
      },
      "source": [
        "So we got to know that Research is binary"
      ]
    },
    {
      "cell_type": "code",
      "metadata": {
        "id": "8IWSiC03BJMX"
      },
      "source": [
        "df.Research=df.Research.astype(object)"
      ],
      "execution_count": 150,
      "outputs": []
    },
    {
      "cell_type": "markdown",
      "metadata": {
        "id": "Mh62WCnPDDGo"
      },
      "source": [
        "We Dont need serial number hence removing it "
      ]
    },
    {
      "cell_type": "code",
      "metadata": {
        "id": "WK4zGlFVDCzR"
      },
      "source": [
        "df.drop(labels='Serial No.',axis=1,inplace=True)"
      ],
      "execution_count": 151,
      "outputs": []
    },
    {
      "cell_type": "code",
      "metadata": {
        "colab": {
          "base_uri": "https://localhost:8080/",
          "height": 204
        },
        "id": "Hc5hbzCFC-z4",
        "outputId": "5c0b4c29-1ecb-4491-bfe9-b74d6165fb15"
      },
      "source": [
        "df.head()"
      ],
      "execution_count": 152,
      "outputs": [
        {
          "output_type": "execute_result",
          "data": {
            "text/html": [
              "<div>\n",
              "<style scoped>\n",
              "    .dataframe tbody tr th:only-of-type {\n",
              "        vertical-align: middle;\n",
              "    }\n",
              "\n",
              "    .dataframe tbody tr th {\n",
              "        vertical-align: top;\n",
              "    }\n",
              "\n",
              "    .dataframe thead th {\n",
              "        text-align: right;\n",
              "    }\n",
              "</style>\n",
              "<table border=\"1\" class=\"dataframe\">\n",
              "  <thead>\n",
              "    <tr style=\"text-align: right;\">\n",
              "      <th></th>\n",
              "      <th>GRE Score</th>\n",
              "      <th>TOEFL Score</th>\n",
              "      <th>University Rating</th>\n",
              "      <th>SOP</th>\n",
              "      <th>LOR</th>\n",
              "      <th>CGPA</th>\n",
              "      <th>Research</th>\n",
              "      <th>Chance of Admit</th>\n",
              "    </tr>\n",
              "  </thead>\n",
              "  <tbody>\n",
              "    <tr>\n",
              "      <th>0</th>\n",
              "      <td>337</td>\n",
              "      <td>118</td>\n",
              "      <td>4</td>\n",
              "      <td>4.5</td>\n",
              "      <td>4.5</td>\n",
              "      <td>9.65</td>\n",
              "      <td>1</td>\n",
              "      <td>1</td>\n",
              "    </tr>\n",
              "    <tr>\n",
              "      <th>1</th>\n",
              "      <td>324</td>\n",
              "      <td>107</td>\n",
              "      <td>4</td>\n",
              "      <td>4.0</td>\n",
              "      <td>4.5</td>\n",
              "      <td>8.87</td>\n",
              "      <td>1</td>\n",
              "      <td>1</td>\n",
              "    </tr>\n",
              "    <tr>\n",
              "      <th>2</th>\n",
              "      <td>316</td>\n",
              "      <td>104</td>\n",
              "      <td>3</td>\n",
              "      <td>3.0</td>\n",
              "      <td>3.5</td>\n",
              "      <td>8.00</td>\n",
              "      <td>1</td>\n",
              "      <td>0</td>\n",
              "    </tr>\n",
              "    <tr>\n",
              "      <th>3</th>\n",
              "      <td>322</td>\n",
              "      <td>110</td>\n",
              "      <td>3</td>\n",
              "      <td>3.5</td>\n",
              "      <td>2.5</td>\n",
              "      <td>8.67</td>\n",
              "      <td>1</td>\n",
              "      <td>1</td>\n",
              "    </tr>\n",
              "    <tr>\n",
              "      <th>4</th>\n",
              "      <td>314</td>\n",
              "      <td>103</td>\n",
              "      <td>2</td>\n",
              "      <td>2.0</td>\n",
              "      <td>3.0</td>\n",
              "      <td>8.21</td>\n",
              "      <td>0</td>\n",
              "      <td>0</td>\n",
              "    </tr>\n",
              "  </tbody>\n",
              "</table>\n",
              "</div>"
            ],
            "text/plain": [
              "   GRE Score  TOEFL Score  University Rating  ...  CGPA  Research  Chance of Admit\n",
              "0        337          118                  4  ...  9.65         1                1\n",
              "1        324          107                  4  ...  8.87         1                1\n",
              "2        316          104                  3  ...  8.00         1                0\n",
              "3        322          110                  3  ...  8.67         1                1\n",
              "4        314          103                  2  ...  8.21         0                0\n",
              "\n",
              "[5 rows x 8 columns]"
            ]
          },
          "metadata": {
            "tags": []
          },
          "execution_count": 152
        }
      ]
    },
    {
      "cell_type": "markdown",
      "metadata": {
        "id": "HoY0aBB_EPMi"
      },
      "source": [
        "Check for normality"
      ]
    },
    {
      "cell_type": "code",
      "metadata": {
        "id": "VhxW5XhAD17j"
      },
      "source": [
        "import seaborn as sns\n",
        "import matplotlib.pyplot as plt"
      ],
      "execution_count": 153,
      "outputs": []
    },
    {
      "cell_type": "code",
      "metadata": {
        "colab": {
          "base_uri": "https://localhost:8080/",
          "height": 433
        },
        "id": "vS8ODI6QEUXR",
        "outputId": "c6bc6868-a2db-44f8-f352-59bdfa5c233b"
      },
      "source": [
        "df.drop(labels='Chance of Admit',axis=1).hist()\n",
        "plt.tight_layout()\n",
        "plt.show()\n",
        "df.drop(labels='Chance of Admit',axis=1).skew()"
      ],
      "execution_count": 154,
      "outputs": [
        {
          "output_type": "display_data",
          "data": {
            "image/png": "[encoded data removed]",
            "text/plain": [
              "<Figure size 432x288 with 6 Axes>"
            ]
          },
          "metadata": {
            "tags": [],
            "needs_background": "light"
          }
        },
        {
          "output_type": "execute_result",
          "data": {
            "text/plain": [
              "GRE Score           -0.062893\n",
              "TOEFL Score          0.057216\n",
              "University Rating    0.171260\n",
              "SOP                 -0.275761\n",
              "LOR                 -0.106991\n",
              "CGPA                -0.065991\n",
              "Research            -0.191582\n",
              "dtype: float64"
            ]
          },
          "metadata": {
            "tags": []
          },
          "execution_count": 154
        }
      ]
    },
    {
      "cell_type": "code",
      "metadata": {
        "colab": {
          "base_uri": "https://localhost:8080/",
          "height": 350
        },
        "id": "oQhOIsB_Ec3y",
        "outputId": "5006fc32-36b5-40d4-9805-2eb1b6c83cc8"
      },
      "source": [
        "sns.countplot(df.Research)"
      ],
      "execution_count": 155,
      "outputs": [
        {
          "output_type": "stream",
          "text": [
            "/usr/local/lib/python3.7/dist-packages/seaborn/_decorators.py:43: FutureWarning: Pass the following variable as a keyword arg: x. From version 0.12, the only valid positional argument will be `data`, and passing other arguments without an explicit keyword will result in an error or misinterpretation.\n",
            "  FutureWarning\n"
          ],
          "name": "stderr"
        },
        {
          "output_type": "execute_result",
          "data": {
            "text/plain": [
              "<matplotlib.axes._subplots.AxesSubplot at 0x7f3a54400950>"
            ]
          },
          "metadata": {
            "tags": []
          },
          "execution_count": 155
        },
        {
          "output_type": "display_data",
          "data": {
            "image/png": "[encoded data removed]",
            "text/plain": [
              "<Figure size 432x288 with 1 Axes>"
            ]
          },
          "metadata": {
            "tags": [],
            "needs_background": "light"
          }
        }
      ]
    },
    {
      "cell_type": "code",
      "metadata": {
        "colab": {
          "base_uri": "https://localhost:8080/",
          "height": 350
        },
        "id": "Pm8imJb9FUWH",
        "outputId": "907c3a30-70a5-4319-b1ea-885973db2c51"
      },
      "source": [
        "sns.countplot(df['Chance of Admit'])"
      ],
      "execution_count": 156,
      "outputs": [
        {
          "output_type": "stream",
          "text": [
            "/usr/local/lib/python3.7/dist-packages/seaborn/_decorators.py:43: FutureWarning: Pass the following variable as a keyword arg: x. From version 0.12, the only valid positional argument will be `data`, and passing other arguments without an explicit keyword will result in an error or misinterpretation.\n",
            "  FutureWarning\n"
          ],
          "name": "stderr"
        },
        {
          "output_type": "execute_result",
          "data": {
            "text/plain": [
              "<matplotlib.axes._subplots.AxesSubplot at 0x7f3a54380d90>"
            ]
          },
          "metadata": {
            "tags": []
          },
          "execution_count": 156
        },
        {
          "output_type": "display_data",
          "data": {
            "image/png": "[encoded data removed]",
            "text/plain": [
              "<Figure size 432x288 with 1 Axes>"
            ]
          },
          "metadata": {
            "tags": [],
            "needs_background": "light"
          }
        }
      ]
    },
    {
      "cell_type": "markdown",
      "metadata": {
        "id": "4HSevSQHFtx5"
      },
      "source": [
        "Check for missing values "
      ]
    },
    {
      "cell_type": "code",
      "metadata": {
        "colab": {
          "base_uri": "https://localhost:8080/"
        },
        "id": "pFz_xOX0FqVb",
        "outputId": "3bd03b58-3af7-47a1-994b-20da79c2e689"
      },
      "source": [
        "df.isnull().sum()"
      ],
      "execution_count": 157,
      "outputs": [
        {
          "output_type": "execute_result",
          "data": {
            "text/plain": [
              "GRE Score            0\n",
              "TOEFL Score          0\n",
              "University Rating    0\n",
              "SOP                  0\n",
              "LOR                  0\n",
              "CGPA                 0\n",
              "Research             0\n",
              "Chance of Admit      0\n",
              "dtype: int64"
            ]
          },
          "metadata": {
            "tags": []
          },
          "execution_count": 157
        }
      ]
    },
    {
      "cell_type": "code",
      "metadata": {
        "id": "tzd0AV35F4dr"
      },
      "source": [
        "df_target=df['Chance of Admit']"
      ],
      "execution_count": 158,
      "outputs": []
    },
    {
      "cell_type": "code",
      "metadata": {
        "id": "iSHhT1siGD4a"
      },
      "source": [
        "df_feature=df.drop(labels='Chance of Admit',axis=1)"
      ],
      "execution_count": 159,
      "outputs": []
    },
    {
      "cell_type": "code",
      "metadata": {
        "id": "_k3ta3a8HIJi"
      },
      "source": [
        "df_num=df_feature.select_dtypes('number')"
      ],
      "execution_count": 160,
      "outputs": []
    },
    {
      "cell_type": "code",
      "metadata": {
        "colab": {
          "base_uri": "https://localhost:8080/",
          "height": 204
        },
        "id": "yxUJDBqEHiCM",
        "outputId": "b388fdef-fe95-415d-be3d-71009474f987"
      },
      "source": [
        "df_num.head()"
      ],
      "execution_count": 161,
      "outputs": [
        {
          "output_type": "execute_result",
          "data": {
            "text/html": [
              "<div>\n",
              "<style scoped>\n",
              "    .dataframe tbody tr th:only-of-type {\n",
              "        vertical-align: middle;\n",
              "    }\n",
              "\n",
              "    .dataframe tbody tr th {\n",
              "        vertical-align: top;\n",
              "    }\n",
              "\n",
              "    .dataframe thead th {\n",
              "        text-align: right;\n",
              "    }\n",
              "</style>\n",
              "<table border=\"1\" class=\"dataframe\">\n",
              "  <thead>\n",
              "    <tr style=\"text-align: right;\">\n",
              "      <th></th>\n",
              "      <th>GRE Score</th>\n",
              "      <th>TOEFL Score</th>\n",
              "      <th>University Rating</th>\n",
              "      <th>SOP</th>\n",
              "      <th>LOR</th>\n",
              "      <th>CGPA</th>\n",
              "    </tr>\n",
              "  </thead>\n",
              "  <tbody>\n",
              "    <tr>\n",
              "      <th>0</th>\n",
              "      <td>337</td>\n",
              "      <td>118</td>\n",
              "      <td>4</td>\n",
              "      <td>4.5</td>\n",
              "      <td>4.5</td>\n",
              "      <td>9.65</td>\n",
              "    </tr>\n",
              "    <tr>\n",
              "      <th>1</th>\n",
              "      <td>324</td>\n",
              "      <td>107</td>\n",
              "      <td>4</td>\n",
              "      <td>4.0</td>\n",
              "      <td>4.5</td>\n",
              "      <td>8.87</td>\n",
              "    </tr>\n",
              "    <tr>\n",
              "      <th>2</th>\n",
              "      <td>316</td>\n",
              "      <td>104</td>\n",
              "      <td>3</td>\n",
              "      <td>3.0</td>\n",
              "      <td>3.5</td>\n",
              "      <td>8.00</td>\n",
              "    </tr>\n",
              "    <tr>\n",
              "      <th>3</th>\n",
              "      <td>322</td>\n",
              "      <td>110</td>\n",
              "      <td>3</td>\n",
              "      <td>3.5</td>\n",
              "      <td>2.5</td>\n",
              "      <td>8.67</td>\n",
              "    </tr>\n",
              "    <tr>\n",
              "      <th>4</th>\n",
              "      <td>314</td>\n",
              "      <td>103</td>\n",
              "      <td>2</td>\n",
              "      <td>2.0</td>\n",
              "      <td>3.0</td>\n",
              "      <td>8.21</td>\n",
              "    </tr>\n",
              "  </tbody>\n",
              "</table>\n",
              "</div>"
            ],
            "text/plain": [
              "   GRE Score  TOEFL Score  University Rating  SOP  LOR  CGPA\n",
              "0        337          118                  4  4.5  4.5  9.65\n",
              "1        324          107                  4  4.0  4.5  8.87\n",
              "2        316          104                  3  3.0  3.5  8.00\n",
              "3        322          110                  3  3.5  2.5  8.67\n",
              "4        314          103                  2  2.0  3.0  8.21"
            ]
          },
          "metadata": {
            "tags": []
          },
          "execution_count": 161
        }
      ]
    },
    {
      "cell_type": "code",
      "metadata": {
        "id": "vmGUoiwpHkGa"
      },
      "source": [
        "df_cat=df_feature.select_dtypes(include = [np.object])"
      ],
      "execution_count": 162,
      "outputs": []
    },
    {
      "cell_type": "code",
      "metadata": {
        "colab": {
          "base_uri": "https://localhost:8080/",
          "height": 204
        },
        "id": "qAYqc3nYH0ax",
        "outputId": "213696bc-3fdf-48cf-e256-6dc496a5ab1c"
      },
      "source": [
        "df_cat.head()"
      ],
      "execution_count": 163,
      "outputs": [
        {
          "output_type": "execute_result",
          "data": {
            "text/html": [
              "<div>\n",
              "<style scoped>\n",
              "    .dataframe tbody tr th:only-of-type {\n",
              "        vertical-align: middle;\n",
              "    }\n",
              "\n",
              "    .dataframe tbody tr th {\n",
              "        vertical-align: top;\n",
              "    }\n",
              "\n",
              "    .dataframe thead th {\n",
              "        text-align: right;\n",
              "    }\n",
              "</style>\n",
              "<table border=\"1\" class=\"dataframe\">\n",
              "  <thead>\n",
              "    <tr style=\"text-align: right;\">\n",
              "      <th></th>\n",
              "      <th>Research</th>\n",
              "    </tr>\n",
              "  </thead>\n",
              "  <tbody>\n",
              "    <tr>\n",
              "      <th>0</th>\n",
              "      <td>1</td>\n",
              "    </tr>\n",
              "    <tr>\n",
              "      <th>1</th>\n",
              "      <td>1</td>\n",
              "    </tr>\n",
              "    <tr>\n",
              "      <th>2</th>\n",
              "      <td>1</td>\n",
              "    </tr>\n",
              "    <tr>\n",
              "      <th>3</th>\n",
              "      <td>1</td>\n",
              "    </tr>\n",
              "    <tr>\n",
              "      <th>4</th>\n",
              "      <td>0</td>\n",
              "    </tr>\n",
              "  </tbody>\n",
              "</table>\n",
              "</div>"
            ],
            "text/plain": [
              "  Research\n",
              "0        1\n",
              "1        1\n",
              "2        1\n",
              "3        1\n",
              "4        0"
            ]
          },
          "metadata": {
            "tags": []
          },
          "execution_count": 163
        }
      ]
    },
    {
      "cell_type": "markdown",
      "metadata": {
        "id": "8jOOmwwtIgQC"
      },
      "source": [
        "Convert Categorical variable two columns"
      ]
    },
    {
      "cell_type": "code",
      "metadata": {
        "id": "eNhlTu1MH1rz"
      },
      "source": [
        "dummy_var=pd.get_dummies(data=df_cat,drop_first=True)"
      ],
      "execution_count": 164,
      "outputs": []
    },
    {
      "cell_type": "code",
      "metadata": {
        "colab": {
          "base_uri": "https://localhost:8080/",
          "height": 419
        },
        "id": "ScH1e5f8JEp6",
        "outputId": "1734c02d-c50b-41c5-de9f-3495bf44e7c8"
      },
      "source": [
        "dummy_var"
      ],
      "execution_count": 165,
      "outputs": [
        {
          "output_type": "execute_result",
          "data": {
            "text/html": [
              "<div>\n",
              "<style scoped>\n",
              "    .dataframe tbody tr th:only-of-type {\n",
              "        vertical-align: middle;\n",
              "    }\n",
              "\n",
              "    .dataframe tbody tr th {\n",
              "        vertical-align: top;\n",
              "    }\n",
              "\n",
              "    .dataframe thead th {\n",
              "        text-align: right;\n",
              "    }\n",
              "</style>\n",
              "<table border=\"1\" class=\"dataframe\">\n",
              "  <thead>\n",
              "    <tr style=\"text-align: right;\">\n",
              "      <th></th>\n",
              "      <th>Research_1</th>\n",
              "    </tr>\n",
              "  </thead>\n",
              "  <tbody>\n",
              "    <tr>\n",
              "      <th>0</th>\n",
              "      <td>1</td>\n",
              "    </tr>\n",
              "    <tr>\n",
              "      <th>1</th>\n",
              "      <td>1</td>\n",
              "    </tr>\n",
              "    <tr>\n",
              "      <th>2</th>\n",
              "      <td>1</td>\n",
              "    </tr>\n",
              "    <tr>\n",
              "      <th>3</th>\n",
              "      <td>1</td>\n",
              "    </tr>\n",
              "    <tr>\n",
              "      <th>4</th>\n",
              "      <td>0</td>\n",
              "    </tr>\n",
              "    <tr>\n",
              "      <th>...</th>\n",
              "      <td>...</td>\n",
              "    </tr>\n",
              "    <tr>\n",
              "      <th>395</th>\n",
              "      <td>1</td>\n",
              "    </tr>\n",
              "    <tr>\n",
              "      <th>396</th>\n",
              "      <td>1</td>\n",
              "    </tr>\n",
              "    <tr>\n",
              "      <th>397</th>\n",
              "      <td>1</td>\n",
              "    </tr>\n",
              "    <tr>\n",
              "      <th>398</th>\n",
              "      <td>0</td>\n",
              "    </tr>\n",
              "    <tr>\n",
              "      <th>399</th>\n",
              "      <td>1</td>\n",
              "    </tr>\n",
              "  </tbody>\n",
              "</table>\n",
              "<p>400 rows × 1 columns</p>\n",
              "</div>"
            ],
            "text/plain": [
              "     Research_1\n",
              "0             1\n",
              "1             1\n",
              "2             1\n",
              "3             1\n",
              "4             0\n",
              "..          ...\n",
              "395           1\n",
              "396           1\n",
              "397           1\n",
              "398           0\n",
              "399           1\n",
              "\n",
              "[400 rows x 1 columns]"
            ]
          },
          "metadata": {
            "tags": []
          },
          "execution_count": 165
        }
      ]
    },
    {
      "cell_type": "markdown",
      "metadata": {
        "id": "Ptruhy2FJOhk"
      },
      "source": [
        "Scale data"
      ]
    },
    {
      "cell_type": "code",
      "metadata": {
        "id": "zFw3YJWNJF_L"
      },
      "source": [
        "from sklearn.preprocessing import StandardScaler"
      ],
      "execution_count": 166,
      "outputs": []
    },
    {
      "cell_type": "code",
      "metadata": {
        "id": "nkUIU0v8Jiwk"
      },
      "source": [
        "X_scaler=StandardScaler()"
      ],
      "execution_count": 167,
      "outputs": []
    },
    {
      "cell_type": "code",
      "metadata": {
        "id": "UBYXOX2RJx0c"
      },
      "source": [
        "num_scaled=X_scaler.fit_transform(df_num)"
      ],
      "execution_count": 168,
      "outputs": []
    },
    {
      "cell_type": "code",
      "metadata": {
        "id": "fagl4dCrJ1kr"
      },
      "source": [
        "df_num_scaled=pd.DataFrame(data=num_scaled,columns=df_num.columns)"
      ],
      "execution_count": 169,
      "outputs": []
    },
    {
      "cell_type": "markdown",
      "metadata": {
        "id": "7Oas8VGHKNBT"
      },
      "source": [
        "Concat cat and num"
      ]
    },
    {
      "cell_type": "code",
      "metadata": {
        "colab": {
          "base_uri": "https://localhost:8080/",
          "height": 204
        },
        "id": "v8zSlZrRJ4c7",
        "outputId": "506266b9-846c-4b89-f1fe-ac573ada53d6"
      },
      "source": [
        "X=pd.concat([df_num_scaled,dummy_var],axis=1)\n",
        "X.head()"
      ],
      "execution_count": 170,
      "outputs": [
        {
          "output_type": "execute_result",
          "data": {
            "text/html": [
              "<div>\n",
              "<style scoped>\n",
              "    .dataframe tbody tr th:only-of-type {\n",
              "        vertical-align: middle;\n",
              "    }\n",
              "\n",
              "    .dataframe tbody tr th {\n",
              "        vertical-align: top;\n",
              "    }\n",
              "\n",
              "    .dataframe thead th {\n",
              "        text-align: right;\n",
              "    }\n",
              "</style>\n",
              "<table border=\"1\" class=\"dataframe\">\n",
              "  <thead>\n",
              "    <tr style=\"text-align: right;\">\n",
              "      <th></th>\n",
              "      <th>GRE Score</th>\n",
              "      <th>TOEFL Score</th>\n",
              "      <th>University Rating</th>\n",
              "      <th>SOP</th>\n",
              "      <th>LOR</th>\n",
              "      <th>CGPA</th>\n",
              "      <th>Research_1</th>\n",
              "    </tr>\n",
              "  </thead>\n",
              "  <tbody>\n",
              "    <tr>\n",
              "      <th>0</th>\n",
              "      <td>1.762107</td>\n",
              "      <td>1.746971</td>\n",
              "      <td>0.798829</td>\n",
              "      <td>1.093864</td>\n",
              "      <td>1.167321</td>\n",
              "      <td>1.764818</td>\n",
              "      <td>1</td>\n",
              "    </tr>\n",
              "    <tr>\n",
              "      <th>1</th>\n",
              "      <td>0.627656</td>\n",
              "      <td>-0.067635</td>\n",
              "      <td>0.798829</td>\n",
              "      <td>0.596653</td>\n",
              "      <td>1.167321</td>\n",
              "      <td>0.455151</td>\n",
              "      <td>1</td>\n",
              "    </tr>\n",
              "    <tr>\n",
              "      <th>2</th>\n",
              "      <td>-0.070467</td>\n",
              "      <td>-0.562528</td>\n",
              "      <td>-0.076600</td>\n",
              "      <td>-0.397769</td>\n",
              "      <td>0.052933</td>\n",
              "      <td>-1.005631</td>\n",
              "      <td>1</td>\n",
              "    </tr>\n",
              "    <tr>\n",
              "      <th>3</th>\n",
              "      <td>0.453126</td>\n",
              "      <td>0.427257</td>\n",
              "      <td>-0.076600</td>\n",
              "      <td>0.099442</td>\n",
              "      <td>-1.061454</td>\n",
              "      <td>0.119339</td>\n",
              "      <td>1</td>\n",
              "    </tr>\n",
              "    <tr>\n",
              "      <th>4</th>\n",
              "      <td>-0.244998</td>\n",
              "      <td>-0.727492</td>\n",
              "      <td>-0.952029</td>\n",
              "      <td>-1.392191</td>\n",
              "      <td>-0.504260</td>\n",
              "      <td>-0.653029</td>\n",
              "      <td>0</td>\n",
              "    </tr>\n",
              "  </tbody>\n",
              "</table>\n",
              "</div>"
            ],
            "text/plain": [
              "   GRE Score  TOEFL Score  University Rating  ...       LOR      CGPA  Research_1\n",
              "0   1.762107     1.746971           0.798829  ...  1.167321  1.764818           1\n",
              "1   0.627656    -0.067635           0.798829  ...  1.167321  0.455151           1\n",
              "2  -0.070467    -0.562528          -0.076600  ...  0.052933 -1.005631           1\n",
              "3   0.453126     0.427257          -0.076600  ... -1.061454  0.119339           1\n",
              "4  -0.244998    -0.727492          -0.952029  ... -0.504260 -0.653029           0\n",
              "\n",
              "[5 rows x 7 columns]"
            ]
          },
          "metadata": {
            "tags": []
          },
          "execution_count": 170
        }
      ]
    },
    {
      "cell_type": "markdown",
      "metadata": {
        "id": "GMsmOHuE0Rhr"
      },
      "source": [
        "Train Test split"
      ]
    },
    {
      "cell_type": "code",
      "metadata": {
        "id": "OixRsVOBKJ2c"
      },
      "source": [
        "from sklearn.model_selection import train_test_split\n",
        "import statsmodels\n",
        "import statsmodels.api as sm"
      ],
      "execution_count": 171,
      "outputs": []
    },
    {
      "cell_type": "markdown",
      "metadata": {
        "id": "qN1znEkQ1Trx"
      },
      "source": [
        "Add intercept "
      ]
    },
    {
      "cell_type": "code",
      "metadata": {
        "id": "HdVS3h0m03YW"
      },
      "source": [
        "X=sm.add_constant(X)"
      ],
      "execution_count": 172,
      "outputs": []
    },
    {
      "cell_type": "code",
      "metadata": {
        "colab": {
          "base_uri": "https://localhost:8080/",
          "height": 204
        },
        "id": "yZrFo4lu1fVF",
        "outputId": "7fed8149-0d2d-4a9d-e65d-f5b2792a250a"
      },
      "source": [
        "X.head()"
      ],
      "execution_count": 173,
      "outputs": [
        {
          "output_type": "execute_result",
          "data": {
            "text/html": [
              "<div>\n",
              "<style scoped>\n",
              "    .dataframe tbody tr th:only-of-type {\n",
              "        vertical-align: middle;\n",
              "    }\n",
              "\n",
              "    .dataframe tbody tr th {\n",
              "        vertical-align: top;\n",
              "    }\n",
              "\n",
              "    .dataframe thead th {\n",
              "        text-align: right;\n",
              "    }\n",
              "</style>\n",
              "<table border=\"1\" class=\"dataframe\">\n",
              "  <thead>\n",
              "    <tr style=\"text-align: right;\">\n",
              "      <th></th>\n",
              "      <th>const</th>\n",
              "      <th>GRE Score</th>\n",
              "      <th>TOEFL Score</th>\n",
              "      <th>University Rating</th>\n",
              "      <th>SOP</th>\n",
              "      <th>LOR</th>\n",
              "      <th>CGPA</th>\n",
              "      <th>Research_1</th>\n",
              "    </tr>\n",
              "  </thead>\n",
              "  <tbody>\n",
              "    <tr>\n",
              "      <th>0</th>\n",
              "      <td>1.0</td>\n",
              "      <td>1.762107</td>\n",
              "      <td>1.746971</td>\n",
              "      <td>0.798829</td>\n",
              "      <td>1.093864</td>\n",
              "      <td>1.167321</td>\n",
              "      <td>1.764818</td>\n",
              "      <td>1</td>\n",
              "    </tr>\n",
              "    <tr>\n",
              "      <th>1</th>\n",
              "      <td>1.0</td>\n",
              "      <td>0.627656</td>\n",
              "      <td>-0.067635</td>\n",
              "      <td>0.798829</td>\n",
              "      <td>0.596653</td>\n",
              "      <td>1.167321</td>\n",
              "      <td>0.455151</td>\n",
              "      <td>1</td>\n",
              "    </tr>\n",
              "    <tr>\n",
              "      <th>2</th>\n",
              "      <td>1.0</td>\n",
              "      <td>-0.070467</td>\n",
              "      <td>-0.562528</td>\n",
              "      <td>-0.076600</td>\n",
              "      <td>-0.397769</td>\n",
              "      <td>0.052933</td>\n",
              "      <td>-1.005631</td>\n",
              "      <td>1</td>\n",
              "    </tr>\n",
              "    <tr>\n",
              "      <th>3</th>\n",
              "      <td>1.0</td>\n",
              "      <td>0.453126</td>\n",
              "      <td>0.427257</td>\n",
              "      <td>-0.076600</td>\n",
              "      <td>0.099442</td>\n",
              "      <td>-1.061454</td>\n",
              "      <td>0.119339</td>\n",
              "      <td>1</td>\n",
              "    </tr>\n",
              "    <tr>\n",
              "      <th>4</th>\n",
              "      <td>1.0</td>\n",
              "      <td>-0.244998</td>\n",
              "      <td>-0.727492</td>\n",
              "      <td>-0.952029</td>\n",
              "      <td>-1.392191</td>\n",
              "      <td>-0.504260</td>\n",
              "      <td>-0.653029</td>\n",
              "      <td>0</td>\n",
              "    </tr>\n",
              "  </tbody>\n",
              "</table>\n",
              "</div>"
            ],
            "text/plain": [
              "   const  GRE Score  TOEFL Score  ...       LOR      CGPA  Research_1\n",
              "0    1.0   1.762107     1.746971  ...  1.167321  1.764818           1\n",
              "1    1.0   0.627656    -0.067635  ...  1.167321  0.455151           1\n",
              "2    1.0  -0.070467    -0.562528  ...  0.052933 -1.005631           1\n",
              "3    1.0   0.453126     0.427257  ... -1.061454  0.119339           1\n",
              "4    1.0  -0.244998    -0.727492  ... -0.504260 -0.653029           0\n",
              "\n",
              "[5 rows x 8 columns]"
            ]
          },
          "metadata": {
            "tags": []
          },
          "execution_count": 173
        }
      ]
    },
    {
      "cell_type": "code",
      "metadata": {
        "id": "N2A2ZRwW1qAY"
      },
      "source": [
        "x_train,x_test,y_train,y_test=train_test_split(X,df_target,random_state=10,test_size=0.2)"
      ],
      "execution_count": 174,
      "outputs": []
    },
    {
      "cell_type": "code",
      "metadata": {
        "colab": {
          "base_uri": "https://localhost:8080/"
        },
        "id": "2PBIm6mD2NL3",
        "outputId": "646e4a3f-866a-42ce-ec4a-72bdc78a2972"
      },
      "source": [
        "x_train.shape"
      ],
      "execution_count": 175,
      "outputs": [
        {
          "output_type": "execute_result",
          "data": {
            "text/plain": [
              "(320, 8)"
            ]
          },
          "metadata": {
            "tags": []
          },
          "execution_count": 175
        }
      ]
    },
    {
      "cell_type": "code",
      "metadata": {
        "colab": {
          "base_uri": "https://localhost:8080/"
        },
        "id": "eCjPOhYX2Rkf",
        "outputId": "18d0832e-44d6-44f8-9eb4-796e52dccba1"
      },
      "source": [
        "x_test.shape"
      ],
      "execution_count": 176,
      "outputs": [
        {
          "output_type": "execute_result",
          "data": {
            "text/plain": [
              "(80, 8)"
            ]
          },
          "metadata": {
            "tags": []
          },
          "execution_count": 176
        }
      ]
    },
    {
      "cell_type": "code",
      "metadata": {
        "id": "EaEhJbwP2T4O"
      },
      "source": [
        "score_card = pd.DataFrame(columns=['Probability Cutoff', 'AUC Score', 'Precision Score', 'Recall Score',\n",
        "                                       'Accuracy Score', 'Kappa Score', 'f1-score'])"
      ],
      "execution_count": 177,
      "outputs": []
    },
    {
      "cell_type": "code",
      "metadata": {
        "id": "faBP4yzX22YR"
      },
      "source": [
        "# import various functions from sklearn \n",
        "from sklearn import metrics\n",
        "from sklearn.linear_model import LogisticRegression\n",
        "from sklearn.metrics import classification_report\n",
        "from sklearn.metrics import cohen_kappa_score\n",
        "from sklearn.metrics import confusion_matrix\n",
        "from sklearn.metrics import roc_curve\n",
        "from sklearn.metrics import accuracy_score\n",
        "# create an empty dataframe to store the scores for various algorithms\n",
        "score_card = pd.DataFrame(columns=['Probability Cutoff', 'AUC Score', 'Precision Score', 'Recall Score',\n",
        "                                       'Accuracy Score', 'Kappa Score', 'f1-score'])\n",
        "\n",
        "# append the result table for all performance scores\n",
        "# performance measures considered for model comparision are 'AUC Score', 'Precision Score', 'Recall Score','Accuracy Score',\n",
        "# 'Kappa Score', and 'f1-score'\n",
        "# compile the required information in a user defined function \n",
        "def update_score_card(model, cutoff):\n",
        "    \n",
        "    # let 'y_pred_prob' be the predicted values of y\n",
        "    y_pred_prob = logreg.predict(X_test)\n",
        "\n",
        "    # convert probabilities to 0 and 1 using 'if_else'\n",
        "    y_pred = [ 0 if x < cutoff else 1 for x in y_pred_prob]\n",
        "    \n",
        "    # assign 'score_card' as global variable\n",
        "    global score_card\n",
        "\n",
        "    # append the results to the dataframe 'score_card'\n",
        "    # 'ignore_index = True' do not consider the index labels\n",
        "    score_card = score_card.append({'Probability Cutoff': cutoff,\n",
        "                                    'AUC Score' : metrics.roc_auc_score(y_test, y_pred),\n",
        "                                    'Precision Score': metrics.precision_score(y_test, y_pred),\n",
        "                                    'Recall Score': metrics.recall_score(y_test, y_pred),\n",
        "                                    'Accuracy Score': metrics.accuracy_score(y_test, y_pred),\n",
        "                                    'Kappa Score':metrics.cohen_kappa_score(y_test, y_pred),\n",
        "                                    'f1-score': metrics.f1_score(y_test, y_pred)}, \n",
        "                                    ignore_index = True)"
      ],
      "execution_count": 207,
      "outputs": []
    },
    {
      "cell_type": "code",
      "metadata": {
        "id": "oIVTNp7o242Y"
      },
      "source": [
        "logreg=sm.Logit(y_train,x_train)"
      ],
      "execution_count": 179,
      "outputs": []
    },
    {
      "cell_type": "code",
      "metadata": {
        "colab": {
          "base_uri": "https://localhost:8080/"
        },
        "id": "0WRri0HN3u_q",
        "outputId": "a5f53aa8-3cfd-433b-a4bd-1e0a8b914c33"
      },
      "source": [
        "logreg=logreg.fit()"
      ],
      "execution_count": 180,
      "outputs": [
        {
          "output_type": "stream",
          "text": [
            "Optimization terminated successfully.\n",
            "         Current function value: 0.241326\n",
            "         Iterations 8\n"
          ],
          "name": "stdout"
        }
      ]
    },
    {
      "cell_type": "code",
      "metadata": {
        "colab": {
          "base_uri": "https://localhost:8080/"
        },
        "id": "lLG7XpaW34be",
        "outputId": "67164973-3d74-482a-c277-c7592528ed5a"
      },
      "source": [
        "print(logreg.summary())"
      ],
      "execution_count": 181,
      "outputs": [
        {
          "output_type": "stream",
          "text": [
            "                           Logit Regression Results                           \n",
            "==============================================================================\n",
            "Dep. Variable:        Chance of Admit   No. Observations:                  320\n",
            "Model:                          Logit   Df Residuals:                      312\n",
            "Method:                           MLE   Df Model:                            7\n",
            "Date:                Sun, 27 Jun 2021   Pseudo R-squ.:                  0.6486\n",
            "Time:                        16:49:53   Log-Likelihood:                -77.224\n",
            "converged:                       True   LL-Null:                       -219.78\n",
            "Covariance Type:            nonrobust   LLR p-value:                 9.137e-58\n",
            "=====================================================================================\n",
            "                        coef    std err          z      P>|z|      [0.025      0.975]\n",
            "-------------------------------------------------------------------------------------\n",
            "const                -0.7119      0.330     -2.157      0.031      -1.359      -0.065\n",
            "GRE Score             0.6095      0.447      1.365      0.172      -0.266       1.485\n",
            "TOEFL Score           0.1989      0.403      0.493      0.622      -0.592       0.990\n",
            "University Rating     0.5883      0.383      1.535      0.125      -0.163       1.339\n",
            "SOP                   0.1768      0.374      0.473      0.636      -0.555       0.909\n",
            "LOR                   0.5118      0.308      1.662      0.096      -0.092       1.115\n",
            "CGPA                  2.6273      0.544      4.832      0.000       1.562       3.693\n",
            "Research_1            0.5819      0.465      1.251      0.211      -0.329       1.493\n",
            "=====================================================================================\n"
          ],
          "name": "stdout"
        }
      ]
    },
    {
      "cell_type": "code",
      "metadata": {
        "colab": {
          "base_uri": "https://localhost:8080/"
        },
        "id": "z-ybY_Gf41n-",
        "outputId": "f285f753-0277-43b2-9cc9-120532b29422"
      },
      "source": [
        "type(logreg.params)"
      ],
      "execution_count": 182,
      "outputs": [
        {
          "output_type": "execute_result",
          "data": {
            "text/plain": [
              "pandas.core.series.Series"
            ]
          },
          "metadata": {
            "tags": []
          },
          "execution_count": 182
        }
      ]
    },
    {
      "cell_type": "code",
      "metadata": {
        "colab": {
          "base_uri": "https://localhost:8080/",
          "height": 297
        },
        "id": "ZSG4IvW74GRO",
        "outputId": "6e6d07cf-5b9b-4e40-965d-8b095b8c4b81"
      },
      "source": [
        "df_odds=pd.DataFrame(np.exp(logreg.params),columns=['Odds'])\n",
        "df_odds"
      ],
      "execution_count": 183,
      "outputs": [
        {
          "output_type": "execute_result",
          "data": {
            "text/html": [
              "<div>\n",
              "<style scoped>\n",
              "    .dataframe tbody tr th:only-of-type {\n",
              "        vertical-align: middle;\n",
              "    }\n",
              "\n",
              "    .dataframe tbody tr th {\n",
              "        vertical-align: top;\n",
              "    }\n",
              "\n",
              "    .dataframe thead th {\n",
              "        text-align: right;\n",
              "    }\n",
              "</style>\n",
              "<table border=\"1\" class=\"dataframe\">\n",
              "  <thead>\n",
              "    <tr style=\"text-align: right;\">\n",
              "      <th></th>\n",
              "      <th>Odds</th>\n",
              "    </tr>\n",
              "  </thead>\n",
              "  <tbody>\n",
              "    <tr>\n",
              "      <th>const</th>\n",
              "      <td>0.490694</td>\n",
              "    </tr>\n",
              "    <tr>\n",
              "      <th>GRE Score</th>\n",
              "      <td>1.839477</td>\n",
              "    </tr>\n",
              "    <tr>\n",
              "      <th>TOEFL Score</th>\n",
              "      <td>1.220082</td>\n",
              "    </tr>\n",
              "    <tr>\n",
              "      <th>University Rating</th>\n",
              "      <td>1.800906</td>\n",
              "    </tr>\n",
              "    <tr>\n",
              "      <th>SOP</th>\n",
              "      <td>1.193371</td>\n",
              "    </tr>\n",
              "    <tr>\n",
              "      <th>LOR</th>\n",
              "      <td>1.668273</td>\n",
              "    </tr>\n",
              "    <tr>\n",
              "      <th>CGPA</th>\n",
              "      <td>13.836155</td>\n",
              "    </tr>\n",
              "    <tr>\n",
              "      <th>Research_1</th>\n",
              "      <td>1.789418</td>\n",
              "    </tr>\n",
              "  </tbody>\n",
              "</table>\n",
              "</div>"
            ],
            "text/plain": [
              "                        Odds\n",
              "const               0.490694\n",
              "GRE Score           1.839477\n",
              "TOEFL Score         1.220082\n",
              "University Rating   1.800906\n",
              "SOP                 1.193371\n",
              "LOR                 1.668273\n",
              "CGPA               13.836155\n",
              "Research_1          1.789418"
            ]
          },
          "metadata": {
            "tags": []
          },
          "execution_count": 183
        }
      ]
    },
    {
      "cell_type": "code",
      "metadata": {
        "colab": {
          "base_uri": "https://localhost:8080/"
        },
        "id": "Yu5A878T5O1n",
        "outputId": "38f58813-8583-4f9b-e3fc-922763f64b4c"
      },
      "source": [
        "y_pred_prob=logreg.predict(x_test)\n",
        "y_pred_prob"
      ],
      "execution_count": 184,
      "outputs": [
        {
          "output_type": "execute_result",
          "data": {
            "text/plain": [
              "332    0.050634\n",
              "111    0.800663\n",
              "352    0.016492\n",
              "205    0.000668\n",
              "56     0.001146\n",
              "         ...   \n",
              "304    0.037234\n",
              "187    0.997764\n",
              "166    0.118340\n",
              "64     0.549633\n",
              "27     0.000442\n",
              "Length: 80, dtype: float64"
            ]
          },
          "metadata": {
            "tags": []
          },
          "execution_count": 184
        }
      ]
    },
    {
      "cell_type": "code",
      "metadata": {
        "id": "QCejSZje5oVJ"
      },
      "source": [
        "y_pred=[0 if x < 0.5 else 1for x in y_pred_prob]"
      ],
      "execution_count": 185,
      "outputs": []
    },
    {
      "cell_type": "code",
      "metadata": {
        "colab": {
          "base_uri": "https://localhost:8080/"
        },
        "id": "r3xPCqT15_Nn",
        "outputId": "bf4c908e-5354-4528-9d1b-84c39fe41dc8"
      },
      "source": [
        "y_pred[0:5]"
      ],
      "execution_count": 186,
      "outputs": [
        {
          "output_type": "execute_result",
          "data": {
            "text/plain": [
              "[0, 1, 0, 0, 0]"
            ]
          },
          "metadata": {
            "tags": []
          },
          "execution_count": 186
        }
      ]
    },
    {
      "cell_type": "markdown",
      "metadata": {
        "id": "rEPApjoZ6FuI"
      },
      "source": [
        "Plot confusion matrix"
      ]
    },
    {
      "cell_type": "code",
      "metadata": {
        "id": "MfItyMuu6Aao"
      },
      "source": [
        "from sklearn.metrics import confusion_matrix"
      ],
      "execution_count": 187,
      "outputs": []
    },
    {
      "cell_type": "code",
      "metadata": {
        "colab": {
          "base_uri": "https://localhost:8080/"
        },
        "id": "OsZMCHhx6UjZ",
        "outputId": "aa86e087-1a7b-4fa8-a4ae-ad31c6ee7648"
      },
      "source": [
        "cm=confusion_matrix(y_test,y_pred)\n",
        "cm"
      ],
      "execution_count": 188,
      "outputs": [
        {
          "output_type": "execute_result",
          "data": {
            "text/plain": [
              "array([[33,  9],\n",
              "       [ 5, 33]])"
            ]
          },
          "metadata": {
            "tags": []
          },
          "execution_count": 188
        }
      ]
    },
    {
      "cell_type": "code",
      "metadata": {
        "id": "BF8Ccwf96gJX"
      },
      "source": [
        "from sklearn.metrics import accuracy_score"
      ],
      "execution_count": 189,
      "outputs": []
    },
    {
      "cell_type": "code",
      "metadata": {
        "colab": {
          "base_uri": "https://localhost:8080/"
        },
        "id": "11Xg59JY6_tk",
        "outputId": "2fabdba8-7114-49c6-be0c-0ea516b033ab"
      },
      "source": [
        "accuracy=accuracy_score(y_test,y_pred)\n",
        "accuracy"
      ],
      "execution_count": 190,
      "outputs": [
        {
          "output_type": "execute_result",
          "data": {
            "text/plain": [
              "0.825"
            ]
          },
          "metadata": {
            "tags": []
          },
          "execution_count": 190
        }
      ]
    },
    {
      "cell_type": "code",
      "metadata": {
        "id": "Ji-vwpqm7J1m"
      },
      "source": [
        "from sklearn.metrics import precision_score"
      ],
      "execution_count": 191,
      "outputs": []
    },
    {
      "cell_type": "code",
      "metadata": {
        "colab": {
          "base_uri": "https://localhost:8080/"
        },
        "id": "RaovlTzD7Rem",
        "outputId": "bdac623b-0545-4038-a2d8-4ba94a88ceb8"
      },
      "source": [
        "precision=precision_score(y_test,y_pred)\n",
        "precision"
      ],
      "execution_count": 192,
      "outputs": [
        {
          "output_type": "execute_result",
          "data": {
            "text/plain": [
              "0.7857142857142857"
            ]
          },
          "metadata": {
            "tags": []
          },
          "execution_count": 192
        }
      ]
    },
    {
      "cell_type": "code",
      "metadata": {
        "id": "Lh7nGTTQ7eiB"
      },
      "source": [
        "from sklearn.metrics import f1_score"
      ],
      "execution_count": 193,
      "outputs": []
    },
    {
      "cell_type": "code",
      "metadata": {
        "colab": {
          "base_uri": "https://localhost:8080/"
        },
        "id": "zTbCk0oR8lo2",
        "outputId": "adb1ea50-15dd-4fca-a46d-af977e491f2d"
      },
      "source": [
        "f1_score(y_test,y_pred)"
      ],
      "execution_count": 194,
      "outputs": [
        {
          "output_type": "execute_result",
          "data": {
            "text/plain": [
              "0.825"
            ]
          },
          "metadata": {
            "tags": []
          },
          "execution_count": 194
        }
      ]
    },
    {
      "cell_type": "code",
      "metadata": {
        "id": "ff1UBcNZ9KcC"
      },
      "source": [
        "from sklearn.metrics import cohen_kappa_score"
      ],
      "execution_count": 195,
      "outputs": []
    },
    {
      "cell_type": "code",
      "metadata": {
        "colab": {
          "base_uri": "https://localhost:8080/"
        },
        "id": "ybWG8ZI99YAS",
        "outputId": "2c3252bd-9e6b-444f-fcf5-6c64cc17d80e"
      },
      "source": [
        "kappa=cohen_kappa_score(y_test,y_pred)\n",
        "kappa"
      ],
      "execution_count": 196,
      "outputs": [
        {
          "output_type": "execute_result",
          "data": {
            "text/plain": [
              "0.6508728179551122"
            ]
          },
          "metadata": {
            "tags": []
          },
          "execution_count": 196
        }
      ]
    },
    {
      "cell_type": "code",
      "metadata": {
        "id": "5WcRC_BA9h2f"
      },
      "source": [
        "from sklearn.metrics import roc_curve"
      ],
      "execution_count": 197,
      "outputs": []
    },
    {
      "cell_type": "code",
      "metadata": {
        "id": "JwrRtmcy9sER"
      },
      "source": [
        "fpr, tpr, thresholds=roc_curve(y_test,y_pred)"
      ],
      "execution_count": 198,
      "outputs": []
    },
    {
      "cell_type": "code",
      "metadata": {
        "colab": {
          "base_uri": "https://localhost:8080/",
          "height": 282
        },
        "id": "eQ9dr_NW-1Je",
        "outputId": "e5f0fbb4-4dab-4319-a66b-ca68d5e0b111"
      },
      "source": [
        "plt.plot(fpr, tpr)"
      ],
      "execution_count": 199,
      "outputs": [
        {
          "output_type": "execute_result",
          "data": {
            "text/plain": [
              "[<matplotlib.lines.Line2D at 0x7f3a542b7a50>]"
            ]
          },
          "metadata": {
            "tags": []
          },
          "execution_count": 199
        },
        {
          "output_type": "display_data",
          "data": {
            "image/png": "[encoded data removed]",
            "text/plain": [
              "<Figure size 432x288 with 1 Axes>"
            ]
          },
          "metadata": {
            "tags": [],
            "needs_background": "light"
          }
        }
      ]
    },
    {
      "cell_type": "code",
      "metadata": {
        "colab": {
          "base_uri": "https://localhost:8080/"
        },
        "id": "OA1ITysf-9Ew",
        "outputId": "8643ee73-b4f6-4465-adc9-99dcb6773650"
      },
      "source": [
        "thresholds"
      ],
      "execution_count": 200,
      "outputs": [
        {
          "output_type": "execute_result",
          "data": {
            "text/plain": [
              "array([2, 1, 0])"
            ]
          },
          "metadata": {
            "tags": []
          },
          "execution_count": 200
        }
      ]
    },
    {
      "cell_type": "code",
      "metadata": {
        "id": "1MYPy0p1L7eF"
      },
      "source": [
        "from sklearn.metrics import roc_auc_score"
      ],
      "execution_count": 201,
      "outputs": []
    },
    {
      "cell_type": "code",
      "metadata": {
        "colab": {
          "base_uri": "https://localhost:8080/"
        },
        "id": "aZ98b-fnNJ6j",
        "outputId": "9332b0b5-232a-412f-d09d-7d79fc188f29"
      },
      "source": [
        "roc_auc_score(y_test,y_pred)"
      ],
      "execution_count": 202,
      "outputs": [
        {
          "output_type": "execute_result",
          "data": {
            "text/plain": [
              "0.8270676691729324"
            ]
          },
          "metadata": {
            "tags": []
          },
          "execution_count": 202
        }
      ]
    },
    {
      "cell_type": "code",
      "metadata": {
        "id": "taxaqX15NPa0"
      },
      "source": [
        "cutoff = [0.1, 0.2, 0.3, 0.4, 0.5, 0.6, 0.7, 0.8, 0.9]"
      ],
      "execution_count": 203,
      "outputs": []
    },
    {
      "cell_type": "code",
      "metadata": {
        "id": "V0YDhZecNWQK"
      },
      "source": [
        "for value in cutoff:\n",
        "  updateScoreCard(logreg, value)"
      ],
      "execution_count": 208,
      "outputs": []
    },
    {
      "cell_type": "code",
      "metadata": {
        "colab": {
          "base_uri": "https://localhost:8080/"
        },
        "id": "SGn65bruNXt2",
        "outputId": "3a6eba3c-e1e9-47f5-969c-d4b61e13e36c"
      },
      "source": [
        "np.sort(np.array(score_card['AUC Score']))[::-1][0]"
      ],
      "execution_count": 219,
      "outputs": [
        {
          "output_type": "execute_result",
          "data": {
            "text/plain": [
              "0.8627819548872181"
            ]
          },
          "metadata": {
            "tags": []
          },
          "execution_count": 219
        }
      ]
    },
    {
      "cell_type": "code",
      "metadata": {
        "colab": {
          "base_uri": "https://localhost:8080/",
          "height": 80
        },
        "id": "IzSe8P1QYvMM",
        "outputId": "ecca33ce-da86-49c5-8cc7-4a92a0d4fb57"
      },
      "source": [
        "score_card[score_card['AUC Score']==0.8627819548872181]"
      ],
      "execution_count": 220,
      "outputs": [
        {
          "output_type": "execute_result",
          "data": {
            "text/html": [
              "<div>\n",
              "<style scoped>\n",
              "    .dataframe tbody tr th:only-of-type {\n",
              "        vertical-align: middle;\n",
              "    }\n",
              "\n",
              "    .dataframe tbody tr th {\n",
              "        vertical-align: top;\n",
              "    }\n",
              "\n",
              "    .dataframe thead th {\n",
              "        text-align: right;\n",
              "    }\n",
              "</style>\n",
              "<table border=\"1\" class=\"dataframe\">\n",
              "  <thead>\n",
              "    <tr style=\"text-align: right;\">\n",
              "      <th></th>\n",
              "      <th>Probability Cutoff</th>\n",
              "      <th>AUC Score</th>\n",
              "      <th>Precision Score</th>\n",
              "      <th>Recall Score</th>\n",
              "      <th>Accuracy Score</th>\n",
              "      <th>Kappa Score</th>\n",
              "      <th>f1-score</th>\n",
              "    </tr>\n",
              "  </thead>\n",
              "  <tbody>\n",
              "    <tr>\n",
              "      <th>5</th>\n",
              "      <td>0.6</td>\n",
              "      <td>0.862782</td>\n",
              "      <td>0.846154</td>\n",
              "      <td>0.868421</td>\n",
              "      <td>0.8625</td>\n",
              "      <td>0.724656</td>\n",
              "      <td>0.857143</td>\n",
              "    </tr>\n",
              "  </tbody>\n",
              "</table>\n",
              "</div>"
            ],
            "text/plain": [
              "   Probability Cutoff  AUC Score  ...  Kappa Score  f1-score\n",
              "5                 0.6   0.862782  ...     0.724656  0.857143\n",
              "\n",
              "[1 rows x 7 columns]"
            ]
          },
          "metadata": {
            "tags": []
          },
          "execution_count": 220
        }
      ]
    },
    {
      "cell_type": "markdown",
      "metadata": {
        "id": "9IkoPcU2anuC"
      },
      "source": [
        "Youden's index"
      ]
    },
    {
      "cell_type": "code",
      "metadata": {
        "id": "nWMrMdWwYs6D"
      },
      "source": [
        "youdens_table = pd.DataFrame({'TPR': tpr,\n",
        "                             'FPR': fpr,\n",
        "                             'Threshold': thresholds})\n",
        "youdens_table['Difference']=youdens_table.TPR - youdens_table.FPR\n"
      ],
      "execution_count": 222,
      "outputs": []
    },
    {
      "cell_type": "code",
      "metadata": {
        "id": "meUknQjwcU7n"
      },
      "source": [
        "youdens_table=youdens_table.sort_values('Difference',ascending=False).reset_index(drop=True)"
      ],
      "execution_count": 223,
      "outputs": []
    },
    {
      "cell_type": "code",
      "metadata": {
        "colab": {
          "base_uri": "https://localhost:8080/",
          "height": 142
        },
        "id": "h9q_e088cq6L",
        "outputId": "eb84c37a-9a57-41ec-ee22-37291be415d5"
      },
      "source": [
        "youdens_table.head()"
      ],
      "execution_count": 224,
      "outputs": [
        {
          "output_type": "execute_result",
          "data": {
            "text/html": [
              "<div>\n",
              "<style scoped>\n",
              "    .dataframe tbody tr th:only-of-type {\n",
              "        vertical-align: middle;\n",
              "    }\n",
              "\n",
              "    .dataframe tbody tr th {\n",
              "        vertical-align: top;\n",
              "    }\n",
              "\n",
              "    .dataframe thead th {\n",
              "        text-align: right;\n",
              "    }\n",
              "</style>\n",
              "<table border=\"1\" class=\"dataframe\">\n",
              "  <thead>\n",
              "    <tr style=\"text-align: right;\">\n",
              "      <th></th>\n",
              "      <th>TPR</th>\n",
              "      <th>FPR</th>\n",
              "      <th>Threshold</th>\n",
              "      <th>Difference</th>\n",
              "    </tr>\n",
              "  </thead>\n",
              "  <tbody>\n",
              "    <tr>\n",
              "      <th>0</th>\n",
              "      <td>0.868421</td>\n",
              "      <td>0.214286</td>\n",
              "      <td>1</td>\n",
              "      <td>0.654135</td>\n",
              "    </tr>\n",
              "    <tr>\n",
              "      <th>1</th>\n",
              "      <td>0.000000</td>\n",
              "      <td>0.000000</td>\n",
              "      <td>2</td>\n",
              "      <td>0.000000</td>\n",
              "    </tr>\n",
              "    <tr>\n",
              "      <th>2</th>\n",
              "      <td>1.000000</td>\n",
              "      <td>1.000000</td>\n",
              "      <td>0</td>\n",
              "      <td>0.000000</td>\n",
              "    </tr>\n",
              "  </tbody>\n",
              "</table>\n",
              "</div>"
            ],
            "text/plain": [
              "        TPR       FPR  Threshold  Difference\n",
              "0  0.868421  0.214286          1    0.654135\n",
              "1  0.000000  0.000000          2    0.000000\n",
              "2  1.000000  1.000000          0    0.000000"
            ]
          },
          "metadata": {
            "tags": []
          },
          "execution_count": 224
        }
      ]
    },
    {
      "cell_type": "code",
      "metadata": {
        "id": "eDFBekBtcsy4"
      },
      "source": [
        "y_pred_youden=[0 if item < 0.62 else 1 for item in y_pred_prob]"
      ],
      "execution_count": 226,
      "outputs": []
    },
    {
      "cell_type": "code",
      "metadata": {
        "colab": {
          "base_uri": "https://localhost:8080/"
        },
        "id": "WGmdzGNidGlc",
        "outputId": "06de54f8-c0f6-4af5-c203-cadec17e5493"
      },
      "source": [
        "cm = confusion_matrix(y_test, y_pred_youden)\n",
        "cm"
      ],
      "execution_count": 227,
      "outputs": [
        {
          "output_type": "execute_result",
          "data": {
            "text/plain": [
              "array([[36,  6],\n",
              "       [ 6, 32]])"
            ]
          },
          "metadata": {
            "tags": []
          },
          "execution_count": 227
        }
      ]
    },
    {
      "cell_type": "markdown",
      "metadata": {
        "id": "M6TEtsyndizw"
      },
      "source": [
        "Check for recursive feature elimination"
      ]
    },
    {
      "cell_type": "code",
      "metadata": {
        "id": "v7fgpgs-dMp8"
      },
      "source": [
        "X_train_rfe=x_train.iloc[:,1:]\n",
        "X_test_rfe = x_test.iloc[:,1:]"
      ],
      "execution_count": 229,
      "outputs": []
    },
    {
      "cell_type": "code",
      "metadata": {
        "id": "L9tSGT8qdxcd"
      },
      "source": [
        "logreg = LogisticRegression()"
      ],
      "execution_count": 230,
      "outputs": []
    },
    {
      "cell_type": "code",
      "metadata": {
        "id": "PtpFsATId1jF"
      },
      "source": [
        "from sklearn.feature_selection import RFE"
      ],
      "execution_count": 231,
      "outputs": []
    },
    {
      "cell_type": "code",
      "metadata": {
        "id": "jFbkquSBeJuy"
      },
      "source": [
        "rfe_model=RFE(estimator=logreg,n_features_to_select=3)"
      ],
      "execution_count": 232,
      "outputs": []
    },
    {
      "cell_type": "code",
      "metadata": {
        "id": "Mr7UpGI7eUnk"
      },
      "source": [
        "rfe_model = rfe_model.fit(X_train_rfe, y_train)"
      ],
      "execution_count": 233,
      "outputs": []
    },
    {
      "cell_type": "code",
      "metadata": {
        "id": "rvp_17ROeXUq"
      },
      "source": [
        "feat_index = pd.Series(data = rfe_model.ranking_, index = X_train_rfe.columns)"
      ],
      "execution_count": 237,
      "outputs": []
    },
    {
      "cell_type": "code",
      "metadata": {
        "id": "Kwv5C3Cvedp5"
      },
      "source": [
        "signi_feat_rfe = feat_index[feat_index==1].index"
      ],
      "execution_count": 238,
      "outputs": []
    },
    {
      "cell_type": "code",
      "metadata": {
        "colab": {
          "base_uri": "https://localhost:8080/"
        },
        "id": "hmkm1ArjfEFk",
        "outputId": "548e87bc-5d93-46ae-cc7f-e5839c2a9a80"
      },
      "source": [
        "print(signi_feat_rfe)"
      ],
      "execution_count": 239,
      "outputs": [
        {
          "output_type": "stream",
          "text": [
            "Index(['GRE Score', 'University Rating', 'CGPA'], dtype='object')\n"
          ],
          "name": "stdout"
        }
      ]
    },
    {
      "cell_type": "code",
      "metadata": {
        "colab": {
          "base_uri": "https://localhost:8080/"
        },
        "id": "Wn1HGLd7fKPy",
        "outputId": "e5d47f3b-ef78-4e8b-ae1a-9786e4fe654a"
      },
      "source": [
        "logreg_rfe = sm.Logit(y_train, x_train[['const', 'GRE Score', 'University Rating', 'CGPA']]).fit()\n",
        "\n",
        "# print the summary of the model\n",
        "print(logreg_rfe.summary())"
      ],
      "execution_count": 241,
      "outputs": [
        {
          "output_type": "stream",
          "text": [
            "Optimization terminated successfully.\n",
            "         Current function value: 0.251732\n",
            "         Iterations 8\n",
            "                           Logit Regression Results                           \n",
            "==============================================================================\n",
            "Dep. Variable:        Chance of Admit   No. Observations:                  320\n",
            "Model:                          Logit   Df Residuals:                      316\n",
            "Method:                           MLE   Df Model:                            3\n",
            "Date:                Sun, 27 Jun 2021   Pseudo R-squ.:                  0.6335\n",
            "Time:                        17:20:54   Log-Likelihood:                -80.554\n",
            "converged:                       True   LL-Null:                       -219.78\n",
            "Covariance Type:            nonrobust   LLR p-value:                 4.590e-60\n",
            "=====================================================================================\n",
            "                        coef    std err          z      P>|z|      [0.025      0.975]\n",
            "-------------------------------------------------------------------------------------\n",
            "const                -0.4202      0.205     -2.046      0.041      -0.823      -0.018\n",
            "GRE Score             0.8531      0.372      2.294      0.022       0.124       1.582\n",
            "University Rating     0.8757      0.332      2.637      0.008       0.225       1.527\n",
            "CGPA                  2.8644      0.508      5.635      0.000       1.868       3.861\n",
            "=====================================================================================\n"
          ],
          "name": "stdout"
        }
      ]
    },
    {
      "cell_type": "code",
      "metadata": {
        "id": "KQUPiWEwfN42"
      },
      "source": [
        "y_pred_prob_rfe = logreg_rfe.predict(x_test[['const', 'GRE Score', 'University Rating', 'CGPA']])"
      ],
      "execution_count": 247,
      "outputs": []
    },
    {
      "cell_type": "code",
      "metadata": {
        "colab": {
          "base_uri": "https://localhost:8080/"
        },
        "id": "hX0bNooFfWYJ",
        "outputId": "76605402-1317-498b-e06a-80736bf923ed"
      },
      "source": [
        "y_pred_prob_rfe.head()"
      ],
      "execution_count": 248,
      "outputs": [
        {
          "output_type": "execute_result",
          "data": {
            "text/plain": [
              "332    0.046820\n",
              "111    0.727388\n",
              "352    0.007586\n",
              "205    0.000586\n",
              "56     0.001808\n",
              "dtype: float64"
            ]
          },
          "metadata": {
            "tags": []
          },
          "execution_count": 248
        }
      ]
    },
    {
      "cell_type": "code",
      "metadata": {
        "id": "3SOc-OFXfsBS"
      },
      "source": [
        "y_pred_rfe = [ 0 if x < 0.6 else 1 for x in y_pred_prob_rfe]"
      ],
      "execution_count": 249,
      "outputs": []
    },
    {
      "cell_type": "code",
      "metadata": {
        "id": "aXwwH9UdfurM"
      },
      "source": [
        "cm = confusion_matrix(y_test, y_pred_rfe)"
      ],
      "execution_count": 250,
      "outputs": []
    },
    {
      "cell_type": "code",
      "metadata": {
        "colab": {
          "base_uri": "https://localhost:8080/"
        },
        "id": "TjEWQ7SKfx8J",
        "outputId": "151c6766-085b-4222-b081-65e52687579f"
      },
      "source": [
        "cm"
      ],
      "execution_count": 251,
      "outputs": [
        {
          "output_type": "execute_result",
          "data": {
            "text/plain": [
              "array([[36,  6],\n",
              "       [ 7, 31]])"
            ]
          },
          "metadata": {
            "tags": []
          },
          "execution_count": 251
        }
      ]
    },
    {
      "cell_type": "code",
      "metadata": {
        "id": "PmkZEgXffzPx"
      },
      "source": [
        "result = classification_report(y_test, y_pred_rfe)"
      ],
      "execution_count": 252,
      "outputs": []
    },
    {
      "cell_type": "code",
      "metadata": {
        "colab": {
          "base_uri": "https://localhost:8080/"
        },
        "id": "9dKGX6-nf4tj",
        "outputId": "c6e4a5d2-286f-4527-cf53-9f984592c885"
      },
      "source": [
        "print(result)"
      ],
      "execution_count": 254,
      "outputs": [
        {
          "output_type": "stream",
          "text": [
            "              precision    recall  f1-score   support\n",
            "\n",
            "           0       0.84      0.86      0.85        42\n",
            "           1       0.84      0.82      0.83        38\n",
            "\n",
            "    accuracy                           0.84        80\n",
            "   macro avg       0.84      0.84      0.84        80\n",
            "weighted avg       0.84      0.84      0.84        80\n",
            "\n"
          ],
          "name": "stdout"
        }
      ]
    },
    {
      "cell_type": "code",
      "metadata": {
        "id": "n31xMnuZf63E"
      },
      "source": [
        ""
      ],
      "execution_count": null,
      "outputs": []
    }
  ]
}